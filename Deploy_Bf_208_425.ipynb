{
  "cells": [
    {
      "cell_type": "code",
      "execution_count": null,
      "metadata": {
        "colab": {
          "base_uri": "https://localhost:8080/"
        },
        "id": "aJYe9pa7nlLS",
        "outputId": "8a15125e-de96-4855-fa89-7d7c73aa93eb"
      },
      "outputs": [
        {
          "name": "stdout",
          "output_type": "stream",
          "text": [
            "Mounted at /content/drive\n"
          ]
        }
      ],
      "source": [
        "#อนุญาตการเข้าถึง Google Drive\n",
        "from google.colab import drive\n",
        "drive.mount('/content/drive')"
      ]
    },
    {
      "cell_type": "code",
      "execution_count": null,
      "metadata": {
        "colab": {
          "base_uri": "https://localhost:8080/"
        },
        "collapsed": true,
        "id": "o2cvVdKbo630",
        "outputId": "e77f5864-d875-47a4-e3e2-c30cb71c0b89"
      },
      "outputs": [
        {
          "name": "stdout",
          "output_type": "stream",
          "text": [
            "Requirement already satisfied: flask in /usr/local/lib/python3.10/dist-packages (2.2.5)\n",
            "Collecting pyngrok\n",
            "  Downloading pyngrok-7.2.0-py3-none-any.whl.metadata (7.4 kB)\n",
            "Requirement already satisfied: Werkzeug>=2.2.2 in /usr/local/lib/python3.10/dist-packages (from flask) (3.0.4)\n",
            "Requirement already satisfied: Jinja2>=3.0 in /usr/local/lib/python3.10/dist-packages (from flask) (3.1.4)\n",
            "Requirement already satisfied: itsdangerous>=2.0 in /usr/local/lib/python3.10/dist-packages (from flask) (2.2.0)\n",
            "Requirement already satisfied: click>=8.0 in /usr/local/lib/python3.10/dist-packages (from flask) (8.1.7)\n",
            "Requirement already satisfied: PyYAML>=5.1 in /usr/local/lib/python3.10/dist-packages (from pyngrok) (6.0.2)\n",
            "Requirement already satisfied: MarkupSafe>=2.0 in /usr/local/lib/python3.10/dist-packages (from Jinja2>=3.0->flask) (2.1.5)\n",
            "Downloading pyngrok-7.2.0-py3-none-any.whl (22 kB)\n",
            "Installing collected packages: pyngrok\n",
            "Successfully installed pyngrok-7.2.0\n"
          ]
        }
      ],
      "source": [
        "!pip install flask pyngrok\n"
      ]
    },
    {
      "cell_type": "code",
      "execution_count": null,
      "metadata": {
        "colab": {
          "background_save": true,
          "base_uri": "https://localhost:8080/"
        },
        "id": "W7pFG-iUhJLf",
        "outputId": "77e93f94-53e6-40b4-d539-5ab0a3aa3fdd"
      },
      "outputs": [
        {
          "name": "stdout",
          "output_type": "stream",
          "text": [
            "Flask app is running at NgrokTunnel: \"https://d0a7-35-196-184-18.ngrok-free.app\" -> \"http://localhost:5000\"\n",
            " * Serving Flask app '__main__'\n",
            " * Debug mode: off\n"
          ]
        },
        {
          "name": "stderr",
          "output_type": "stream",
          "text": [
            "INFO:werkzeug:\u001b[31m\u001b[1mWARNING: This is a development server. Do not use it in a production deployment. Use a production WSGI server instead.\u001b[0m\n",
            " * Running on http://127.0.0.1:5000\n",
            "INFO:werkzeug:\u001b[33mPress CTRL+C to quit\u001b[0m\n",
            "INFO:werkzeug:127.0.0.1 - - [05/Oct/2024 14:43:56] \"GET / HTTP/1.1\" 200 -\n",
            "INFO:werkzeug:127.0.0.1 - - [05/Oct/2024 14:43:57] \"\u001b[33mGET /favicon.ico HTTP/1.1\u001b[0m\" 404 -\n"
          ]
        }
      ],
      "source": [
        "from flask import Flask, request, render_template_string\n",
        "from pyngrok import ngrok\n",
        "import joblib\n",
        "import numpy as np\n",
        "from PIL import Image\n",
        "import base64\n",
        "import io\n",
        "\n",
        "app = Flask(__name__)\n",
        "\n",
        "# โหลดโมเดลที่บันทึกเป็นไฟล์ joblib\n",
        "model = joblib.load('/content/drive/MyDrive/ฺButterfly/best_random_forest_model.joblib')\n",
        "\n",
        "# สายพันธุ์ที่โมเดลสามารถจำแนกได้\n",
        "classes = ['ADONIS', 'AFRICAN GIANT SWALLOWTAIL', 'AMERICAN SNOOT', 'AN 88', 'APPOLLO',\n",
        "           'ATALA', 'BANDED ORANGE HELICONIAN', 'BANDED PEACOCK', 'BECKERS WHITE',\n",
        "           'BLACK HAIRSTREAK', 'BLUE MORPHO', 'BLUE SPOTTED CROW', 'BROWN SIPROETA',\n",
        "           'CABBAGE WHITE', 'CAIRNS BIRDWING', 'CHECQUERED SKIPPER', 'CHESTNUT',\n",
        "           'CLEOPATRA', 'CLODIUS PARNASSIAN', 'CLOUDED SULPHUR', 'COMMON BANDED AWL',\n",
        "           'COMMON WOOD-NYMPH', 'COPPER TAIL', 'CRECENT', 'CRIMSON PATCH',\n",
        "           'DANAID EGGFLY', 'EASTERN COMA', 'EASTERN DAPPLE WHITE',\n",
        "           'EASTERN PINE ELFIN', 'ELBOWED PIERROT', 'GOLD BANDED', 'GREAT EGGFLY',\n",
        "           'GREAT JAY', 'GREEN CELLED CATTLEHEART', 'GREY HAIRSTREAK', 'INDRA SWALLOW',\n",
        "           'IPHICLUS SISTER', 'JULIA', 'LARGE MARBLE', 'MALACHITE', 'MANGROVE SKIPPER',\n",
        "           'MESTRA', 'METALMARK', 'MILBERTS TORTOISESHELL', 'MONARCH', 'MOURNING CLOAK',\n",
        "           'ORANGE OAKLEAF', 'ORANGE TIP', 'ORCHARD SWALLOW', 'PAINTED LADY',\n",
        "           'PAPER KITE', 'PEACOCK', 'PINE WHITE', 'PIPEVINE SWALLOW', 'POPINJAY',\n",
        "           'PURPLE HAIRSTREAK', 'PURPLISH COPPER', 'QUESTION MARK', 'RED ADMIRAL',\n",
        "           'RED CRACKER', 'RED POSTMAN', 'RED SPOTTED PURPLE', 'SCARCE SWALLOW',\n",
        "           'SILVER SPOT SKIPPER', 'SLEEPY ORANGE', 'SOOTYWING', 'SOUTHERN DOGFACE',\n",
        "           'STRAITED QUEEN', 'TROPICAL LEAFWING', 'TWO BARRED FLASHER', 'ULYSES',\n",
        "           'VICEROY', 'WOOD SATYR', 'YELLOW SWALLOW TAIL', 'ZEBRA LONG WING']\n",
        "\n",
        "# HTML template\n",
        "HTML_TEMPLATE = '''\n",
        "<!DOCTYPE html>\n",
        "<html lang=\"th\">\n",
        "<head>\n",
        "    <meta charset=\"UTF-8\">\n",
        "    <meta name=\"viewport\" content=\"width=device-width, initial-scale=1.0\">\n",
        "    <title>ระบบจำแนกสายพันธุ์ผีเสื้อ</title>\n",
        "    <style>\n",
        "        body {\n",
        "            font-family: 'Kanit', sans-serif;\n",
        "            background-color: #f0f0f0;\n",
        "            display: flex;\n",
        "            justify-content: center;\n",
        "            align-items: center;\n",
        "            height: 100vh;\n",
        "            margin: 0;\n",
        "        }\n",
        "        .container {\n",
        "            background-color: white;\n",
        "            padding: 2rem;\n",
        "            border-radius: 10px;\n",
        "            box-shadow: 0 4px 6px rgba(0, 0, 0, 0.1);\n",
        "            text-align: center;\n",
        "        }\n",
        "        h1 {\n",
        "            color: #4a4a4a;\n",
        "        }\n",
        "        form {\n",
        "            margin-top: 1rem;\n",
        "        }\n",
        "        input[type=\"file\"] {\n",
        "            display: none;\n",
        "        }\n",
        "        .custom-file-upload {\n",
        "            border: 1px solid #ccc;\n",
        "            display: inline-block;\n",
        "            padding: 6px 12px;\n",
        "            cursor: pointer;\n",
        "            background-color: #f8f9fa;\n",
        "            color: #4a4a4a;\n",
        "            border-radius: 4px;\n",
        "            transition: all 0.3s;\n",
        "        }\n",
        "        .custom-file-upload:hover {\n",
        "            background-color: #e9ecef;\n",
        "        }\n",
        "        input[type=\"submit\"] {\n",
        "            background-color: #007bff;\n",
        "            color: white;\n",
        "            border: none;\n",
        "            padding: 10px 20px;\n",
        "            margin-top: 1rem;\n",
        "            cursor: pointer;\n",
        "            border-radius: 4px;\n",
        "            transition: background-color 0.3s;\n",
        "        }\n",
        "        input[type=\"submit\"]:hover {\n",
        "            background-color: #0056b3;\n",
        "        }\n",
        "        .result {\n",
        "            margin-top: 2rem;\n",
        "            font-size: 1.2rem;\n",
        "            color: #28a745;\n",
        "        }\n",
        "        #preview {\n",
        "            max-width: 300px;\n",
        "            max-height: 300px;\n",
        "            margin-top: 1rem;\n",
        "        }\n",
        "    </style>\n",
        "</head>\n",
        "<body>\n",
        "    <div class=\"container\">\n",
        "        <h1>ระบบจำแนกสายพันธุ์ผีเสื้อ</h1>\n",
        "        <form action=\"/predict\" method=\"post\" enctype=\"multipart/form-data\">\n",
        "            <label for=\"file-upload\" class=\"custom-file-upload\">\n",
        "                เลือกรูปภาพ\n",
        "            </label>\n",
        "            <input id=\"file-upload\" type=\"file\" name=\"file\" accept=\"image/*\" onchange=\"previewImage(event)\">\n",
        "            <br>\n",
        "            <img id=\"preview\" src=\"\" alt=\"Preview\" style=\"display:none;\">\n",
        "            <br>\n",
        "            <input type=\"submit\" value=\"วิเคราะห์\">\n",
        "        </form>\n",
        "        {% if result %}\n",
        "        <div class=\"result\">\n",
        "            <h2>ผลการวิเคราะห์</h2>\n",
        "            <p>สายพันธุ์ที่ทำนายได้: {{ result }}</p>\n",
        "            {% if image_data %}\n",
        "            <img src=\"data:image/jpeg;base64,{{ image_data }}\" alt=\"Uploaded Image\" style=\"max-width: 300px; max-height: 300px;\">\n",
        "            {% endif %}\n",
        "        </div>\n",
        "        {% endif %}\n",
        "    </div>\n",
        "    <script>\n",
        "        function previewImage(event) {\n",
        "            var reader = new FileReader();\n",
        "            reader.onload = function(){\n",
        "                var output = document.getElementById('preview');\n",
        "                output.src = reader.result;\n",
        "                output.style.display = 'block';\n",
        "            };\n",
        "            reader.readAsDataURL(event.target.files[0]);\n",
        "        }\n",
        "    </script>\n",
        "</body>\n",
        "</html>\n",
        "'''\n",
        "\n",
        "@app.route('/')\n",
        "def home():\n",
        "    return render_template_string(HTML_TEMPLATE)\n",
        "\n",
        "@app.route('/predict', methods=['POST'])\n",
        "def predict():\n",
        "    file = request.files['file']\n",
        "    if not file:\n",
        "        return 'กรุณาอัปโหลดไฟล์รูปภาพ'\n",
        "\n",
        "    # โหลดรูปภาพและเตรียมข้อมูล\n",
        "    img = Image.open(file)\n",
        "    img_display = img.copy()\n",
        "    img = img.resize((128, 128))  # ปรับขนาดให้เข้ากับโมเดล\n",
        "    img = np.array(img) / 255.0  # ปรับค่าให้อยู่ในช่วง 0-1\n",
        "    img = img.flatten().reshape(1, -1)  # แปลงเป็นเวกเตอร์แล้วแปลงขนาดสำหรับโมเดล\n",
        "\n",
        "    # ทำการทำนาย\n",
        "    prediction = model.predict(img)\n",
        "    predicted_class = classes[int(prediction[0])]\n",
        "\n",
        "    # แปลงรูปภาพเป็น base64 เพื่อแสดงผล\n",
        "    buffered = io.BytesIO()\n",
        "    img_display.save(buffered, format=\"JPEG\")\n",
        "    img_str = base64.b64encode(buffered.getvalue()).decode()\n",
        "\n",
        "    return render_template_string(HTML_TEMPLATE, result=predicted_class, image_data=img_str)\n",
        "\n",
        "# ตั้งค่า ngrok authtoken\n",
        "ngrok.set_auth_token(\"2mqEaqKTNmNXfdPYThWpo9wbhY5_hmgkuX3hbm3NamfvSKsK\")\n",
        "\n",
        "# เปิดใช้งาน ngrok\n",
        "public_url = ngrok.connect(5000)\n",
        "print(f\"Flask app is running at {public_url}\")\n",
        "\n",
        "# รัน Flask app\n",
        "if __name__ == '__main__':\n",
        "    app.run()"
      ]
    }
  ],
  "metadata": {
    "colab": {
      "provenance": []
    },
    "kernelspec": {
      "display_name": "Python 3",
      "name": "python3"
    },
    "language_info": {
      "name": "python"
    }
  },
  "nbformat": 4,
  "nbformat_minor": 0
}